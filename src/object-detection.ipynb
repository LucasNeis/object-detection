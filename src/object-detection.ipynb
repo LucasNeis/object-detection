{
 "cells": [
  {
   "cell_type": "markdown",
   "id": "heated-stockholm",
   "metadata": {},
   "source": [
    "## Startup\n",
    "Primeiramente são iniciados valores pré-definidos para serem usados como parâmetros."
   ]
  },
  {
   "cell_type": "code",
   "execution_count": null,
   "id": "emotional-requirement",
   "metadata": {},
   "outputs": [],
   "source": [
    "\"\"\"hog\"\"\"\n",
    "orientations = 9\n",
    "window_dim = [153, 70]\n",
    "step = [10, 10]\n",
    "cells_per_block = [6, 3]\n",
    "pixels_per_cell = [3, 2]\n",
    "normalize_with = 'L1-sqrt'\n",
    "visualize = False\n",
    "desired_confidence = 0.\n",
    "scale_step = 1.25\n",
    "sigma = 2.5\n"
   ]
  },
  {
   "cell_type": "markdown",
   "id": "embedded-matrix",
   "metadata": {},
   "source": [
    "Então define-se as funções de carregar imagens, selecionar imagens aleatoriamente, mostrar imagens, e extrair as features de hog."
   ]
  },
  {
   "cell_type": "code",
   "execution_count": null,
   "id": "nominated-scout",
   "metadata": {},
   "outputs": [],
   "source": [
    "import os\n",
    "from skimage.io import imread\n",
    "import fnmatch\n",
    "\n",
    "def load_dir_images(path, fltr):\n",
    "    img_paths = []\n",
    "    \n",
    "    for root, _, filenames in os.walk(path):\n",
    "        for filename in fnmatch.filter(filenames, fltr):\n",
    "            img_paths.append(os.path.join(root, filename))\n",
    "\n",
    "    images = []\n",
    "    for path in img_paths:\n",
    "        images.append(imread(path))\n",
    "    return images"
   ]
  },
  {
   "cell_type": "code",
   "execution_count": null,
   "id": "personal-reservation",
   "metadata": {},
   "outputs": [],
   "source": [
    "import matplotlib.pyplot as plt\n",
    "import random as rnd\n",
    "from operator import itemgetter\n",
    "\n",
    "def select_random_images(images, ceil):\n",
    "    indx = rnd.sample(range(0, len(images)), ceil)\n",
    "    imgs = itemgetter(*indx)(images)\n",
    "    return imgs, indx\n",
    "\n",
    "def show(images, title = \"Random images plot\", ceil = 5, is_gray = False):\n",
    "    im_number = len(images)\n",
    "    if im_number > ceil:\n",
    "        imgs = select_random_images(images, ceil)\n",
    "    elif im_number == 0:\n",
    "        return\n",
    "    else:\n",
    "        imgs = images\n",
    "    fig, ax = plt.subplots(1, len(imgs), figsize=(23, 2))\n",
    "    index = 0\n",
    "    fig.suptitle(title)\n",
    "    for image in imgs:\n",
    "        if is_gray:\n",
    "            ax[index].imshow(image, cmap=plt.cm.gray)\n",
    "        else:\n",
    "            ax[index].imshow(image)\n",
    "        index += 1\n",
    "    plt.show()"
   ]
  },
  {
   "cell_type": "code",
   "execution_count": null,
   "id": "operating-chosen",
   "metadata": {},
   "outputs": [],
   "source": [
    "from skimage.feature import hog\n",
    "from operator import itemgetter\n",
    "from skimage.color import rgb2gray\n",
    "\n",
    "def extract_features(images, idxs = None):\n",
    "    fd = []\n",
    "    imgs = []\n",
    "    for img in images:\n",
    "        im = flt.gaussian(img, sigma=(sigma, sigma), truncate=2., multichannel=True)\n",
    "        if visualize:\n",
    "            fdi, im = hog(rgb2gray(im), orientations, pixels_per_cell, cells_per_block, normalize_with, visualize)\n",
    "            fd.append(fdi)\n",
    "            imgs.append(im)\n",
    "        else:\n",
    "            fd.append(hog(rgb2gray(im), orientations, pixels_per_cell, cells_per_block, normalize_with, visualize))\n",
    "    if not idxs is None and len(imgs) > max(idxs):\n",
    "        show(itemgetter(*idxs)(imgs), \"hog\", is_gray=True)\n",
    "    return fd"
   ]
  },
  {
   "cell_type": "code",
   "execution_count": null,
   "id": "statewide-tradition",
   "metadata": {
    "scrolled": true
   },
   "outputs": [],
   "source": [
    "from skimage.transform import resize\n",
    "\n",
    "pos = load_dir_images(\"../data/pos/\", '*.png')\n",
    "for i in range(0, len(pos)):\n",
    "    pos[i] = resize(pos[i], [70, 153])\n",
    "pos_sample, pos_idx = select_random_images(pos, 5)\n",
    "show(pos_sample, \"Positive examples\")\n",
    "neg = load_dir_images(\"../data/neg/\", '*.png')\n",
    "for i in range(0, len(neg)):\n",
    "    neg[i] = resize(neg[i], [70, 153])\n",
    "neg_sample, neg_idx = select_random_images(neg, 5)\n",
    "show(neg_sample, \"Negative examples\")"
   ]
  },
  {
   "cell_type": "code",
   "execution_count": null,
   "id": "divine-flash",
   "metadata": {},
   "outputs": [],
   "source": [
    "pos_fd = extract_features(pos, pos_idx)\n",
    "neg_fd = extract_features(neg, neg_idx)"
   ]
  },
  {
   "cell_type": "code",
   "execution_count": null,
   "id": "double-turtle",
   "metadata": {},
   "outputs": [],
   "source": [
    "from sklearn.svm import LinearSVC\n",
    "\n",
    "def train_svm(pos_fd, neg_fd):\n",
    "    target = []\n",
    "    features = []\n",
    "    for fd in pos_fd:\n",
    "        target.append(1)\n",
    "        features.append(fd)\n",
    "\n",
    "    for fd in neg_fd:\n",
    "        target.append(0)\n",
    "        features.append(fd)\n",
    "\n",
    "    machine = LinearSVC()\n",
    "    machine.fit(features, target)\n",
    "    return machine"
   ]
  },
  {
   "cell_type": "code",
   "execution_count": null,
   "id": "weighted-berry",
   "metadata": {
    "scrolled": true
   },
   "outputs": [],
   "source": [
    "from collections import namedtuple\n",
    "Window = namedtuple(\"Window\", \"x y pixels is_border is_bottom\")\n",
    "\n",
    "def get_next_point(current, shape):\n",
    "    x = current.x + step[0]\n",
    "    bottom = current.is_bottom\n",
    "    border = False\n",
    "    if x >= shape[1] or current.is_border:\n",
    "        x = 0\n",
    "        y = current.y + step[1]\n",
    "    elif x + window_dim[0] > shape[1]:\n",
    "        x = shape[1] - window_dim[0]\n",
    "        y = current.y\n",
    "        border = True\n",
    "    else:\n",
    "        y = current.y\n",
    "\n",
    "    if y >= shape[0] or (current.is_bottom and current.is_border):\n",
    "        raise type(\"ImageBoundsReached\", (Exception, object), {})\n",
    "    elif y + window_dim[1] > shape[0]:\n",
    "        y = shape[0] - window_dim[1]\n",
    "        bottom = True\n",
    "    return x, y, border, bottom    "
   ]
  },
  {
   "cell_type": "code",
   "execution_count": null,
   "id": "julian-stanley",
   "metadata": {},
   "outputs": [],
   "source": [
    "def get_next_window(image, current=None):\n",
    "    if current is None:\n",
    "        x, y = 0, 0\n",
    "        bottom = False\n",
    "        border = False\n",
    "    else:\n",
    "        try:\n",
    "            x, y, border, bottom = get_next_point(current, image.shape)\n",
    "        except Exception:\n",
    "            return None\n",
    "        #x, y = current.x + step[0], current.y + step[1]\n",
    "    return Window(x, y, image[y:y+window_dim[1], x:x+window_dim[0]], border, bottom)"
   ]
  },
  {
   "cell_type": "code",
   "execution_count": null,
   "id": "opened-failure",
   "metadata": {},
   "outputs": [],
   "source": [
    "def widen_search(original, scale):\n",
    "    if scale <= 0:\n",
    "        return original \n",
    "    new_width = original.shape[0]//scale\n",
    "    new_height = original.shape[1]//scale\n",
    "    resized = resize(original, [new_width, new_height])\n",
    "    if np.less_equal(resized.shape[0:2], np.array(window_dim)).any():\n",
    "        return None\n",
    "    return resized"
   ]
  },
  {
   "cell_type": "code",
   "execution_count": null,
   "id": "understood-reserve",
   "metadata": {
    "scrolled": false
   },
   "outputs": [],
   "source": [
    "import numpy as np\n",
    "import os\n",
    "from ipywidgets import interact, interactive, fixed, interact_manual\n",
    "import ipywidgets as widgets\n",
    "import skimage.filters as flt\n",
    "\n",
    "\n",
    "test = load_dir_images(\"../data/test/\", '*.jpg')\n",
    "\n",
    "def valor(source):\n",
    "    classify_svm(machine, test[source], 0, False)\n",
    "\n",
    "def classify_svm(machine, image, count, verbose=False):\n",
    "    im = None\n",
    "    scale = 0\n",
    "    maximum = 0\n",
    "    blurred = flt.gaussian(image, sigma=(sigma, sigma), truncate=2., multichannel=True)\n",
    "    plt.imshow(blurred)\n",
    "    plt.show()\n",
    "    while(not (img := widen_search(blurred, scale)) is None):\n",
    "        print(img.shape)\n",
    "        while(not (im := get_next_window(img, im)) is None):\n",
    "            if verbose:\n",
    "                print(\"Running with window at ({}, {}) up to ({},{})\".format(im.x,\n",
    "                                                                         im.y,\n",
    "                                                                         im.pixels.shape[1]+im.x,\n",
    "                                                                         im.pixels.shape[0]+im.y))\n",
    "            if visualize:\n",
    "                result = hog(rgb2gray(im.pixels), orientations, pixels_per_cell, cells_per_block, normalize_with, visualize)\n",
    "                feat, im_hog = result\n",
    "                show([im_hog, im.pixels], \"hog\", 2, True)\n",
    "            else:\n",
    "                feat = hog(rgb2gray(im.pixels), orientations, pixels_per_cell, cells_per_block, normalize_with, visualize)\n",
    "            feat = np.array(feat).reshape(1, (len(feat)))\n",
    "            prediction = machine.predict(feat)\n",
    "            confidence = machine.decision_function(feat)\n",
    "            maximum = confidence if maximum < confidence else maximum\n",
    "            if prediction == 1 and confidence >= desired_confidence:\n",
    "                if verbose:\n",
    "                    print(\"Found one at ({},{}) up to ({},{})\".format(im.x,\n",
    "                                                                      im.y,\n",
    "                                                                      im.pixels.shape[1]+im.x,\n",
    "                                                                      im.pixels.shape[0]+im.y))\n",
    "                image_filename = \"{}.png\".format(confidence)\n",
    "                blurred_filename = \"{}_blurred.png\".format(confidence)\n",
    "                plt.imsave(os.path.join(\"../data/identified/\", blurred_filename), im.pixels)\n",
    "                plt.imsave(os.path.join(\"../data/identified/\", image_filename), widen_search(image, scale)[im.y:im.y+im.pixels.shape[0], im.x:im.x+im.pixels.shape[1]]) \n",
    "                count+=1\n",
    "                #show([im_hog, im.pixels], \"hog\", 2, True)\n",
    "                #plt.show()\n",
    "        scale += scale_step\n",
    "    print(maximum)\n",
    "    return count\n",
    "\n",
    "sources = [i for i in range(0, len(test)-1)]\n",
    "test_cases = len(test)\n",
    "machine = train_svm(pos_fd, neg_fd)\n",
    "selected_test_case = rnd.randint(0, test_cases)\n",
    "#print(\"Of {} possible, test case #{} was selected.\".format(test_cases, selected_test_case))\n",
    "#selected_test_case = test[selected_test_case]\n",
    "#plt.imshow(selected_test_case)\n",
    "#plt.show()\n",
    "show(test, \"test cases\", len(test))\n",
    "val = interact_manual(valor, source=sources)"
   ]
  },
  {
   "cell_type": "code",
   "execution_count": null,
   "id": "final-transport",
   "metadata": {},
   "outputs": [],
   "source": []
  }
 ],
 "metadata": {
  "kernelspec": {
   "display_name": "Python 3",
   "language": "python",
   "name": "python3"
  },
  "language_info": {
   "codemirror_mode": {
    "name": "ipython",
    "version": 3
   },
   "file_extension": ".py",
   "mimetype": "text/x-python",
   "name": "python",
   "nbconvert_exporter": "python",
   "pygments_lexer": "ipython3",
   "version": "3.9.2"
  }
 },
 "nbformat": 4,
 "nbformat_minor": 5
}
